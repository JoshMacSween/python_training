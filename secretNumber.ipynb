{
 "cells": [
  {
   "cell_type": "code",
   "execution_count": 3,
   "metadata": {
    "scrolled": true
   },
   "outputs": [
    {
     "name": "stdout",
     "output_type": "stream",
     "text": [
      "Guess the number between 1 and 20\n",
      "Take a guess!\n",
      "10\n",
      "Too High\n",
      "Take a guess!\n",
      "5\n",
      "Too Low\n",
      "Take a guess!\n",
      "6\n",
      "Too Low\n",
      "Take a guess!\n",
      "7\n",
      "Too Low\n",
      "Take a guess!\n",
      "8\n",
      "Good job! You guessed the numer in 5 tries!\n"
     ]
    }
   ],
   "source": [
    "import random\n",
    "secretNumber = random.randint(1,20)\n",
    "\n",
    "print(\"Guess the number between 1 and 20\")\n",
    "\n",
    "for guessesTaken in range(1,7):\n",
    "    print(\"Take a guess!\")\n",
    "    guess = int(input())\n",
    "\n",
    "    if guess < secretNumber:\n",
    "        print(\"Too Low\")\n",
    "    elif guess > secretNumber:\n",
    "        print(\"Too High\")\n",
    "    else:\n",
    "        break\n",
    "\n",
    "if guess == secretNumber:\n",
    "    print(\"Good job! You guessed the number in \" + str(guessesTaken) + \" tries!\")\n",
    "else:\n",
    "    print(\"Nope, the number I was thinking was \" + str(secretNumber))\n"
   ]
  },
  {
   "cell_type": "code",
   "execution_count": null,
   "metadata": {
    "scrolled": true
   },
   "outputs": [],
   "source": []
  }
 ],
 "metadata": {
  "kernelspec": {
   "display_name": "Python 3",
   "language": "python",
   "name": "python3"
  },
  "language_info": {
   "codemirror_mode": {
    "name": "ipython",
    "version": 3
   },
   "file_extension": ".py",
   "mimetype": "text/x-python",
   "name": "python",
   "nbconvert_exporter": "python",
   "pygments_lexer": "ipython3",
   "version": "3.7.4"
  }
 },
 "nbformat": 4,
 "nbformat_minor": 2
}
