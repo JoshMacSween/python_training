{
 "cells": [
  {
   "cell_type": "code",
   "execution_count": null,
   "metadata": {},
   "outputs": [],
   "source": [
    "import random\n",
    "\n",
    "def studyMultiplication():\n",
    "    x = random.randint(1, 12)\n",
    "    y = random.randint(1, 12)\n",
    "    answer = (x * y)\n",
    "    \n",
    "    print(\"What is %s times %s\"% (x, y))\n",
    "    user_input = int(input(\"Answer: \"))\n",
    "    if (user_input == answer):\n",
    "        print(\"correct!\")\n",
    "    else:\n",
    "        print(\"Try again\")\n",
    "\n",
    "studyMultiplication()"
   ]
  },
  {
   "cell_type": "code",
   "execution_count": null,
   "metadata": {},
   "outputs": [],
   "source": []
  },
  {
   "cell_type": "code",
   "execution_count": null,
   "metadata": {},
   "outputs": [],
   "source": []
  },
  {
   "cell_type": "code",
   "execution_count": null,
   "metadata": {},
   "outputs": [],
   "source": []
  }
 ],
 "metadata": {
  "kernelspec": {
   "display_name": "Python 3",
   "language": "python",
   "name": "python3"
  },
  "language_info": {
   "codemirror_mode": {
    "name": "ipython",
    "version": 3
   },
   "file_extension": ".py",
   "mimetype": "text/x-python",
   "name": "python",
   "nbconvert_exporter": "python",
   "pygments_lexer": "ipython3",
   "version": "3.7.4"
  }
 },
 "nbformat": 4,
 "nbformat_minor": 2
}
